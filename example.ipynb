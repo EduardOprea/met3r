{
 "cells": [
  {
   "cell_type": "code",
   "execution_count": null,
   "metadata": {},
   "outputs": [
    {
     "ename": "ModuleNotFoundError",
     "evalue": "No module named 'path_to_dust3r'",
     "output_type": "error",
     "traceback": [
      "\u001b[0;31m---------------------------------------------------------------------------\u001b[0m",
      "\u001b[0;31mModuleNotFoundError\u001b[0m                       Traceback (most recent call last)",
      "Cell \u001b[0;32mIn[2], line 5\u001b[0m\n\u001b[1;32m      1\u001b[0m \u001b[38;5;66;03m# import os\u001b[39;00m\n\u001b[1;32m      2\u001b[0m \u001b[38;5;66;03m# os.environ['TORCH_HOME'] = '/BS/grl-masim-data/work/torch_models'\u001b[39;00m\n\u001b[1;32m      4\u001b[0m \u001b[38;5;28;01mimport\u001b[39;00m \u001b[38;5;21;01mtorch\u001b[39;00m\n\u001b[0;32m----> 5\u001b[0m \u001b[38;5;28;01mfrom\u001b[39;00m \u001b[38;5;21;01mmet3r\u001b[39;00m \u001b[38;5;28;01mimport\u001b[39;00m MET3R\n\u001b[1;32m      7\u001b[0m metric \u001b[38;5;241m=\u001b[39m MET3R()\u001b[38;5;241m.\u001b[39mcuda()\n\u001b[1;32m      9\u001b[0m inputs \u001b[38;5;241m=\u001b[39m torch\u001b[38;5;241m.\u001b[39mrandn((\u001b[38;5;241m10\u001b[39m, \u001b[38;5;241m2\u001b[39m, \u001b[38;5;241m3\u001b[39m, \u001b[38;5;241m256\u001b[39m, \u001b[38;5;241m256\u001b[39m))\u001b[38;5;241m.\u001b[39mcuda()\n",
      "File \u001b[0;32m/BS/grl-masim-data/work/met3r/met3r/__init__.py:1\u001b[0m\n\u001b[0;32m----> 1\u001b[0m \u001b[38;5;28;01mfrom\u001b[39;00m \u001b[38;5;21;01m.\u001b[39;00m\u001b[38;5;21;01mmet3r\u001b[39;00m \u001b[38;5;28;01mimport\u001b[39;00m MET3R\n",
      "File \u001b[0;32m/BS/grl-masim-data/work/met3r/met3r/met3r.py:28\u001b[0m\n\u001b[1;32m     18\u001b[0m \u001b[38;5;28;01mfrom\u001b[39;00m \u001b[38;5;21;01mpytorch3d\u001b[39;00m\u001b[38;5;21;01m.\u001b[39;00m\u001b[38;5;21;01mrenderer\u001b[39;00m \u001b[38;5;28;01mimport\u001b[39;00m (\n\u001b[1;32m     19\u001b[0m     FoVPerspectiveCameras, \n\u001b[1;32m     20\u001b[0m     PerspectiveCameras,\n\u001b[0;32m   (...)\u001b[0m\n\u001b[1;32m     24\u001b[0m     AlphaCompositor,\n\u001b[1;32m     25\u001b[0m )\n\u001b[1;32m     27\u001b[0m \u001b[38;5;66;03m# Load DUSt3R model\u001b[39;00m\n\u001b[0;32m---> 28\u001b[0m \u001b[38;5;28;01mimport\u001b[39;00m \u001b[38;5;21;01mpath_to_dust3r\u001b[39;00m\n\u001b[1;32m     29\u001b[0m \u001b[38;5;28;01mfrom\u001b[39;00m \u001b[38;5;21;01mdust3r\u001b[39;00m\u001b[38;5;21;01m.\u001b[39;00m\u001b[38;5;21;01mmodel\u001b[39;00m \u001b[38;5;28;01mimport\u001b[39;00m AsymmetricCroCo3DStereo \n\u001b[1;32m     30\u001b[0m \u001b[38;5;28;01mfrom\u001b[39;00m \u001b[38;5;21;01mdust3r\u001b[39;00m\u001b[38;5;21;01m.\u001b[39;00m\u001b[38;5;21;01mutils\u001b[39;00m\u001b[38;5;21;01m.\u001b[39;00m\u001b[38;5;21;01mgeometry\u001b[39;00m \u001b[38;5;28;01mimport\u001b[39;00m xy_grid\n",
      "\u001b[0;31mModuleNotFoundError\u001b[0m: No module named 'path_to_dust3r'"
     ]
    }
   ],
   "source": [
    "\n",
    "import os\n",
    "os.environ['TORCH_HOME'] = '/BS/grl-masim-data/work/torch_models'\n",
    "\n",
    "import torch\n",
    "from met3r import MET3R\n",
    "\n",
    "metric = MET3R().cuda()\n",
    "\n",
    "inputs = torch.randn((10, 2, 3, 256, 256)).cuda()\n",
    "inputs = inputs.clip(-1, 1)\n",
    "\n",
    "\"\"\"\n",
    "Args:\n",
    "    Inputs (Float[Tensor, \"b 2 c h w\"]): Normalized input image pairs with values ranging in [-1, 1],\n",
    "    return_score_map (bool, False): Return 2D map of feature dissimlarity (Unweighted), \n",
    "    return_projections (bool, False): Return projected feature maps\n",
    "\n",
    "Return:\n",
    "    score (float): MET3R score which consists of weighted mean of feature dissimlarity\n",
    "    mask (bool[Tensor, \"b c h w\"])\n",
    "\"\"\"\n",
    "\n",
    "score, mask = metric(inputs)\n",
    "\n",
    "# Should be between 0.3 - 0.35\n",
    "print(score.mean().item())"
   ]
  },
  {
   "cell_type": "code",
   "execution_count": null,
   "metadata": {},
   "outputs": [],
   "source": [
    "score.shape"
   ]
  }
 ],
 "metadata": {
  "kernelspec": {
   "display_name": "test",
   "language": "python",
   "name": "python3"
  },
  "language_info": {
   "codemirror_mode": {
    "name": "ipython",
    "version": 3
   },
   "file_extension": ".py",
   "mimetype": "text/x-python",
   "name": "python",
   "nbconvert_exporter": "python",
   "pygments_lexer": "ipython3",
   "version": "3.10.15"
  }
 },
 "nbformat": 4,
 "nbformat_minor": 2
}
