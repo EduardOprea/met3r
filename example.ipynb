{
 "cells": [
  {
   "cell_type": "code",
   "execution_count": null,
   "metadata": {},
   "outputs": [
    {
     "name": "stdout",
     "output_type": "stream",
     "text": [
      "Warning, cannot find cuda-compiled version of RoPE2D, using a slow pytorch version instead\n"
     ]
    },
    {
     "name": "stderr",
     "output_type": "stream",
     "text": [
      "/BS/grl-co3d/work/install/miniconda3/envs/test/lib/python3.10/site-packages/tqdm/auto.py:21: TqdmWarning: IProgress not found. Please update jupyter and ipywidgets. See https://ipywidgets.readthedocs.io/en/stable/user_install.html\n",
      "  from .autonotebook import tqdm as notebook_tqdm\n",
      "Using cache found in /BS/grl-masim-data/work/torch_models/hub/mhamilton723_FeatUp_main\n",
      "Using cache found in /BS/grl-masim-data/work/torch_models/hub/facebookresearch_dino_main\n",
      "/BS/grl-co3d/work/install/miniconda3/envs/test/lib/python3.10/site-packages/torch/functional.py:512: UserWarning: torch.meshgrid: in an upcoming release, it will be required to pass the indexing argument. (Triggered internally at ../aten/src/ATen/native/TensorShape.cpp:3587.)\n",
      "  return _VF.meshgrid(tensors, **kwargs)  # type: ignore[attr-defined]\n"
     ]
    },
    {
     "name": "stdout",
     "output_type": "stream",
     "text": [
      "0.3283780515193939\n"
     ]
    }
   ],
   "source": [
    "\n",
    "import os\n",
    "os.environ['TORCH_HOME'] = '/BS/grl-masim-data/work/torch_models'\n",
    "\n",
    "import torch\n",
    "from met3r import MET3R\n",
    "\n",
    "metric = MET3R(img_size=None).cuda()\n",
    "\n",
    "inputs = torch.randn((10, 2, 3, 256, 256)).cuda()\n",
    "inputs = inputs.clip(-1, 1)\n",
    "\n",
    "\"\"\"Forward function to compute MET3R\n",
    "Args:\n",
    "    images (Float[Tensor, \"b 2 c h w\"]): Normalized input image pairs with values ranging in [-1, 1],\n",
    "    return_overlap_mask (bool, False): Return 2D map overlapping mask\n",
    "    return_score_map (bool, False): Return 2D map of feature dissimlarity (Unweighted) \n",
    "    return_projections (bool, False): Return projected feature maps\n",
    "\n",
    "Return:\n",
    "    score (Float[Tensor, \"b\"]): MET3R score which consists of weighted mean of feature dissimlarity\n",
    "    mask (bool[Tensor, \"b c h w\"], optional): Overlapping mask\n",
    "    feat_dissim_maps (bool[Tensor, \"b h w\"], optional): Feature dissimilarity score map\n",
    "    proj_feats (bool[Tensor, \"b h w c\"], optional): Projected and rendered features\n",
    "\"\"\"\n",
    "\n",
    "score, mask = metric(inputs)\n",
    "\n",
    "# Should be between 0.3 - 0.35\n",
    "print(score.mean().item())"
   ]
  },
  {
   "cell_type": "code",
   "execution_count": null,
   "metadata": {},
   "outputs": [
    {
     "data": {
      "text/plain": [
       "torch.Size([10])"
      ]
     },
     "execution_count": 2,
     "metadata": {},
     "output_type": "execute_result"
    }
   ],
   "source": [
    "metric()"
   ]
  }
 ],
 "metadata": {
  "kernelspec": {
   "display_name": "test",
   "language": "python",
   "name": "python3"
  },
  "language_info": {
   "codemirror_mode": {
    "name": "ipython",
    "version": 3
   },
   "file_extension": ".py",
   "mimetype": "text/x-python",
   "name": "python",
   "nbconvert_exporter": "python",
   "pygments_lexer": "ipython3",
   "version": "3.10.15"
  }
 },
 "nbformat": 4,
 "nbformat_minor": 2
}
