{
 "cells": [
  {
   "cell_type": "code",
   "execution_count": null,
   "metadata": {},
   "outputs": [],
   "source": [
    "import torch\n",
    "from met3r import MET3R\n",
    "\n",
    "# Initialize MET3R\n",
    "metric = MET3R(\n",
    "    img_size=256, # Default. Set to `None` to use the input resolution on the fly!\n",
    "    use_norm=True, # Default \n",
    "    feat_backbone=\"dino16\", # Default \n",
    "    featup_weights=\"mhamilton723/FeatUp\", # Default \n",
    "    dust3r_weights=\"naver/DUSt3R_ViTLarge_BaseDecoder_512_dpt\" # Default \n",
    ").cuda()\n",
    "\n"
   ]
  },
  {
   "cell_type": "code",
   "execution_count": null,
   "metadata": {},
   "outputs": [],
   "source": [
    "# Prepare inputs\n",
    "# RGB range must be in [-1, 1]\n",
    "inputs = torch.randn((10, 2, 3, 256, 256)).cuda()\n",
    "inputs = inputs.clip(-1, 1)\n",
    "\n",
    "# Evaluate MET3R\n",
    "with torch.no_grad():\n",
    "    score = metric(\n",
    "        images=inputs, \n",
    "        return_overlap_mask=True, # Default \n",
    "        return_score_map=False, # Default \n",
    "        return_projections=False # Default \n",
    "    )[0].detach()\n",
    "\n",
    "# Should be between 0.3 - 0.35\n",
    "print(score.mean().item())\n",
    "\n",
    "# Clear up GPU memory\n",
    "torch.cuda.empty_cache()"
   ]
  }
 ],
 "metadata": {
  "kernelspec": {
   "display_name": "test",
   "language": "python",
   "name": "python3"
  },
  "language_info": {
   "codemirror_mode": {
    "name": "ipython",
    "version": 3
   },
   "file_extension": ".py",
   "mimetype": "text/x-python",
   "name": "python",
   "nbconvert_exporter": "python",
   "pygments_lexer": "ipython3",
   "version": "3.10.15"
  }
 },
 "nbformat": 4,
 "nbformat_minor": 2
}
