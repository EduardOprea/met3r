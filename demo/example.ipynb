{
 "cells": [
  {
   "cell_type": "code",
   "execution_count": 1,
   "metadata": {},
   "outputs": [
    {
     "name": "stdout",
     "output_type": "stream",
     "text": [
      "Warning, cannot find cuda-compiled version of RoPE2D, using a slow pytorch version instead\n"
     ]
    },
    {
     "name": "stderr",
     "output_type": "stream",
     "text": [
      "/BS/grl-co3d/work/install/miniconda3/envs/test/lib/python3.10/site-packages/tqdm/auto.py:21: TqdmWarning: IProgress not found. Please update jupyter and ipywidgets. See https://ipywidgets.readthedocs.io/en/stable/user_install.html\n",
      "  from .autonotebook import tqdm as notebook_tqdm\n",
      "Using cache found in /BS/grl-masim-data/work/torch_models/hub/mhamilton723_FeatUp_main\n",
      "Using cache found in /BS/grl-masim-data/work/torch_models/hub/facebookresearch_dino_main\n"
     ]
    }
   ],
   "source": [
    "import torch\n",
    "from met3r import MET3R\n",
    "\n",
    "# Initialize MET3R\n",
    "metric = MET3R(\n",
    "    img_size=256, # Default. Set to `None` to use the input resolution on the fly!\n",
    "    use_norm=True, # Default \n",
    "    feat_backbone=\"dino16\", # Default \n",
    "    featup_weights=\"mhamilton723/FeatUp\", # Default \n",
    "    dust3r_weights=\"naver/DUSt3R_ViTLarge_BaseDecoder_512_dpt\" # Default \n",
    ").cuda()\n",
    "\n"
   ]
  },
  {
   "cell_type": "code",
   "execution_count": null,
   "metadata": {},
   "outputs": [
    {
     "name": "stderr",
     "output_type": "stream",
     "text": [
      "/BS/grl-co3d/work/install/miniconda3/envs/test/lib/python3.10/site-packages/torch/functional.py:512: UserWarning: torch.meshgrid: in an upcoming release, it will be required to pass the indexing argument. (Triggered internally at ../aten/src/ATen/native/TensorShape.cpp:3587.)\n",
      "  return _VF.meshgrid(tensors, **kwargs)  # type: ignore[attr-defined]\n"
     ]
    },
    {
     "name": "stdout",
     "output_type": "stream",
     "text": [
      "0.3283780515193939\n"
     ]
    }
   ],
   "source": [
    "# Prepare inputs\n",
    "# RGB range must be in [-1, 1]\n",
    "inputs = torch.randn((10, 2, 3, 256, 256)).cuda()\n",
    "inputs = inputs.clip(-1, 1)\n",
    "\n",
    "# Evaluate MET3R\n",
    "with torch.no_grad():\n",
    "    score = metric(\n",
    "        images=inputs, \n",
    "        return_overlap_mask=True, # Default \n",
    "        return_score_map=False, # Default \n",
    "        return_projections=False # Default \n",
    "    )[0]\n",
    "\n",
    "# Should be between 0.3 - 0.35\n",
    "print(score.mean().item())\n"
   ]
  }
 ],
 "metadata": {
  "kernelspec": {
   "display_name": "test",
   "language": "python",
   "name": "python3"
  },
  "language_info": {
   "codemirror_mode": {
    "name": "ipython",
    "version": 3
   },
   "file_extension": ".py",
   "mimetype": "text/x-python",
   "name": "python",
   "nbconvert_exporter": "python",
   "pygments_lexer": "ipython3",
   "version": "3.10.15"
  }
 },
 "nbformat": 4,
 "nbformat_minor": 2
}
